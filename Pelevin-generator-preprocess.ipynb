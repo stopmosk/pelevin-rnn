{
 "cells": [
  {
   "cell_type": "markdown",
   "metadata": {},
   "source": [
    "# Пелевин RNN - чистка и препроцессинг текста"
   ]
  },
  {
   "cell_type": "code",
   "execution_count": 1,
   "metadata": {
    "ExecuteTime": {
     "end_time": "2019-11-05T18:20:34.854793Z",
     "start_time": "2019-11-05T18:20:34.372865Z"
    }
   },
   "outputs": [],
   "source": [
    "import os\n",
    "import random\n",
    "\n",
    "import numpy as np\n",
    "import matplotlib.pyplot as plt\n",
    "%matplotlib inline"
   ]
  },
  {
   "cell_type": "markdown",
   "metadata": {},
   "source": [
    "### Загрузка текста"
   ]
  },
  {
   "cell_type": "code",
   "execution_count": 2,
   "metadata": {
    "ExecuteTime": {
     "end_time": "2019-11-05T18:21:31.570320Z",
     "start_time": "2019-11-05T18:21:31.528673Z"
    }
   },
   "outputs": [],
   "source": [
    "with open('pelevin-all.txt', encoding='utf-8-sig') as input_file:\n",
    "    texts = input_file.read()[:-1].split('\\n')"
   ]
  },
  {
   "cell_type": "code",
   "execution_count": 3,
   "metadata": {},
   "outputs": [
    {
     "name": "stdout",
     "output_type": "stream",
     "text": [
      "76275\n"
     ]
    }
   ],
   "source": [
    "print(len(texts))"
   ]
  },
  {
   "cell_type": "code",
   "execution_count": 4,
   "metadata": {},
   "outputs": [
    {
     "data": {
      "text/plain": [
       "['Колдун Игнат и люди',\n",
       " 'Сказочка',\n",
       " '4 мая 1912 года к колдуну Игнату пришел в гости протоиерей Арсеникум. Пока Игнат хлопотал с самоваром, доставал пряники, гость сморкался у вешалки, долго снимал калоши, крестился и вздыхал. Потом сел на краешек табурета, достал из-под рясы папку красного картона, раскрыл и развязно сказал Игнату:',\n",
       " '–\\xa0Глянь-ка, чего я понаписал!',\n",
       " '–\\xa0Интересно,\\xa0– сказал Игнат, беря первый лист,\\xa0– вслух читать?',\n",
       " '–\\xa0Что ты!\\xa0– испугано зашипел протоиерей.\\xa0– Про себя!',\n",
       " 'Игнат стал читать:',\n",
       " '«ОТКРОВЕНИЕ СВ. ФЕОКТИСТА»',\n",
       " '–\\xa0«Люди!\\xa0– сказал св. Феоктист, потрясая узловатым посохом.\\xa0– Христос явился мне, истинно так. Он велел пойти к вам и извиниться. Ничего не вышло».',\n",
       " '–\\xa0Ха-ха-ха!\\xa0– засмеялся Игнат, а сам подумал: «Неспроста это». Но виду не подал.']"
      ]
     },
     "execution_count": 4,
     "metadata": {},
     "output_type": "execute_result"
    }
   ],
   "source": [
    "texts[:10]"
   ]
  },
  {
   "cell_type": "markdown",
   "metadata": {},
   "source": [
    "### Замена спец. символов"
   ]
  },
  {
   "cell_type": "code",
   "execution_count": 5,
   "metadata": {},
   "outputs": [],
   "source": [
    "for i, string in enumerate(texts):\n",
    "    texts[i] = string.replace(u'\\xa0', u' ').replace(u'\\ufeff', u'')"
   ]
  },
  {
   "cell_type": "code",
   "execution_count": 6,
   "metadata": {},
   "outputs": [
    {
     "data": {
      "text/plain": [
       "['Колдун Игнат и люди',\n",
       " 'Сказочка',\n",
       " '4 мая 1912 года к колдуну Игнату пришел в гости протоиерей Арсеникум. Пока Игнат хлопотал с самоваром, доставал пряники, гость сморкался у вешалки, долго снимал калоши, крестился и вздыхал. Потом сел на краешек табурета, достал из-под рясы папку красного картона, раскрыл и развязно сказал Игнату:',\n",
       " '– Глянь-ка, чего я понаписал!',\n",
       " '– Интересно, – сказал Игнат, беря первый лист, – вслух читать?',\n",
       " '– Что ты! – испугано зашипел протоиерей. – Про себя!',\n",
       " 'Игнат стал читать:',\n",
       " '«ОТКРОВЕНИЕ СВ. ФЕОКТИСТА»',\n",
       " '– «Люди! – сказал св. Феоктист, потрясая узловатым посохом. – Христос явился мне, истинно так. Он велел пойти к вам и извиниться. Ничего не вышло».',\n",
       " '– Ха-ха-ха! – засмеялся Игнат, а сам подумал: «Неспроста это». Но виду не подал.',\n",
       " '– А есть еще? – спросил он вместо этого.',\n",
       " '– Ага! – протоиерей дал Игнату новый листок и тот прочел:',\n",
       " '«КАК МИХАИЛ ИВАНЫЧ С УМА СОШЕЛ И УМЕР»',\n",
       " '«Куда бы я ни пошел, – подумал Михаил Иваныч, с удивлением садясь на диван, – везде обязательно оказывается хоть один сумасшедший. Но вот, наконец, я в одиночестве…»',\n",
       " '«Да и потом, – продолжал Михаил Иваныч, с удивлением поворачиваясь к окну, – где бы я ни оказался, везде обязательно присутствовал хоть один мертвец. Но вот я один, слава богу…»',\n",
       " '«Настало время, – сказал себе Михаил Иваныч, с удивлением открывая ставень, – подумать о главном…»',\n",
       " '«Нет, точно, неспроста это», – решил Игнат, но виду опять не подал и вместо этого сказал:',\n",
       " '– Интересно. Только не очень понятна главная мысль.',\n",
       " '– Очень просто, – ответил протоиерей, нахально подмигивая, – дело в том, что смерти предшествует короткое помешательство. Ведь идея смерти непереносима.',\n",
       " '«Нет, – подумал Игнат, – что-то он определенно крутит».']"
      ]
     },
     "execution_count": 6,
     "metadata": {},
     "output_type": "execute_result"
    }
   ],
   "source": [
    "texts[:20]"
   ]
  },
  {
   "cell_type": "code",
   "execution_count": 7,
   "metadata": {},
   "outputs": [
    {
     "data": {
      "image/png": "[encoded data removed]",
      "text/plain": [
       "<Figure size 432x288 with 1 Axes>"
      ]
     },
     "metadata": {
      "needs_background": "light"
     },
     "output_type": "display_data"
    }
   ],
   "source": [
    "plt.title('Length distribution')\n",
    "plt.hist(list(map(len, texts)), bins=256);"
   ]
  },
  {
   "cell_type": "markdown",
   "metadata": {},
   "source": [
    "### Обрезка слишком длинных предложений"
   ]
  },
  {
   "cell_type": "code",
   "execution_count": 8,
   "metadata": {},
   "outputs": [],
   "source": [
    "MAX_LEN = 800\n",
    "\n",
    "# Crop sentences with length > 800\n",
    "for i in range(len(texts)):\n",
    "    if len(texts[i]) > MAX_LEN:\n",
    "        texts[i] = texts[i][:MAX_LEN]\n",
    "        if '.' not in texts[i]:\n",
    "            continue\n",
    "        while True:\n",
    "            if texts[i][-1] in '.?!…':\n",
    "                break\n",
    "            else:\n",
    "                texts[i] = texts[i][:-1]"
   ]
  },
  {
   "cell_type": "code",
   "execution_count": 9,
   "metadata": {},
   "outputs": [
    {
     "data": {
      "image/png": "[encoded data removed]",
      "text/plain": [
       "<Figure size 432x288 with 1 Axes>"
      ]
     },
     "metadata": {
      "needs_background": "light"
     },
     "output_type": "display_data"
    }
   ],
   "source": [
    "plt.title('New length distribution')\n",
    "plt.hist(list(map(len, texts)), bins=256);"
   ]
  },
  {
   "cell_type": "code",
   "execution_count": 10,
   "metadata": {},
   "outputs": [
    {
     "data": {
      "text/plain": [
       "['Колдун Игнат и люди',\n",
       " 'Сказочка',\n",
       " '4 мая 1912 года к колдуну Игнату пришел в гости протоиерей Арсеникум. Пока Игнат хлопотал с самоваром, доставал пряники, гость сморкался у вешалки, долго снимал калоши, крестился и вздыхал. Потом сел на краешек табурета, достал из-под рясы папку красного картона, раскрыл и развязно сказал Игнату:',\n",
       " '– Глянь-ка, чего я понаписал!',\n",
       " '– Интересно, – сказал Игнат, беря первый лист, – вслух читать?',\n",
       " '– Что ты! – испугано зашипел протоиерей. – Про себя!',\n",
       " 'Игнат стал читать:',\n",
       " '«ОТКРОВЕНИЕ СВ. ФЕОКТИСТА»',\n",
       " '– «Люди! – сказал св. Феоктист, потрясая узловатым посохом. – Христос явился мне, истинно так. Он велел пойти к вам и извиниться. Ничего не вышло».',\n",
       " '– Ха-ха-ха! – засмеялся Игнат, а сам подумал: «Неспроста это». Но виду не подал.',\n",
       " '– А есть еще? – спросил он вместо этого.',\n",
       " '– Ага! – протоиерей дал Игнату новый листок и тот прочел:',\n",
       " '«КАК МИХАИЛ ИВАНЫЧ С УМА СОШЕЛ И УМЕР»',\n",
       " '«Куда бы я ни пошел, – подумал Михаил Иваныч, с удивлением садясь на диван, – везде обязательно оказывается хоть один сумасшедший. Но вот, наконец, я в одиночестве…»',\n",
       " '«Да и потом, – продолжал Михаил Иваныч, с удивлением поворачиваясь к окну, – где бы я ни оказался, везде обязательно присутствовал хоть один мертвец. Но вот я один, слава богу…»',\n",
       " '«Настало время, – сказал себе Михаил Иваныч, с удивлением открывая ставень, – подумать о главном…»',\n",
       " '«Нет, точно, неспроста это», – решил Игнат, но виду опять не подал и вместо этого сказал:',\n",
       " '– Интересно. Только не очень понятна главная мысль.',\n",
       " '– Очень просто, – ответил протоиерей, нахально подмигивая, – дело в том, что смерти предшествует короткое помешательство. Ведь идея смерти непереносима.',\n",
       " '«Нет, – подумал Игнат, – что-то он определенно крутит».']"
      ]
     },
     "execution_count": 10,
     "metadata": {},
     "output_type": "execute_result"
    }
   ],
   "source": [
    "texts[:20]"
   ]
  },
  {
   "cell_type": "code",
   "execution_count": 11,
   "metadata": {},
   "outputs": [
    {
     "name": "stdout",
     "output_type": "stream",
     "text": [
      "76275\n"
     ]
    }
   ],
   "source": [
    "# Check\n",
    "print(len(texts))"
   ]
  },
  {
   "cell_type": "markdown",
   "metadata": {},
   "source": [
    "### Сохранение обработанного текста"
   ]
  },
  {
   "cell_type": "code",
   "execution_count": 12,
   "metadata": {},
   "outputs": [],
   "source": [
    "with open('pelevin-all_prepared.txt', 'w') as t_file:\n",
    "    t_file.writelines(line + '\\n' for line in texts)"
   ]
  },
  {
   "cell_type": "markdown",
   "metadata": {},
   "source": [
    "### Создание и сохраение списка токенов"
   ]
  },
  {
   "cell_type": "code",
   "execution_count": 13,
   "metadata": {
    "ExecuteTime": {
     "end_time": "2019-11-05T18:21:31.653673Z",
     "start_time": "2019-11-05T18:21:31.578424Z"
    }
   },
   "outputs": [],
   "source": [
    "tokens = sorted(list(set(''.join(texts))))\n",
    "token_to_id = {token: idx for idx, token in enumerate(tokens)}\n",
    "num_tokens = len(tokens)"
   ]
  },
  {
   "cell_type": "code",
   "execution_count": 14,
   "metadata": {},
   "outputs": [
    {
     "name": "stdout",
     "output_type": "stream",
     "text": [
      "214\n",
      "[' ', '!', '\"', '#', '$', '%', '&', \"'\", '(', ')', '*', '+', ',', '-', '.', '/', '0', '1', '2', '3', '4', '5', '6', '7', '8', '9', ':', ';', '<', '=', '>', '?', '@', 'A', 'B', 'C', 'D', 'E', 'F', 'G', 'H', 'I', 'J', 'K', 'L', 'M', 'N', 'O', 'P', 'Q', 'R', 'S', 'T', 'U', 'V', 'W', 'X', 'Y', 'Z', '[', '\\\\', ']', '^', '_', '`', 'a', 'b', 'c', 'd', 'e', 'f', 'g', 'h', 'i', 'j', 'k', 'l', 'm', 'n', 'o', 'p', 'q', 'r', 's', 't', 'u', 'v', 'w', 'x', 'y', 'z', '|', '~', '©', '«', '®', '°', '»', 'À', 'É', 'Ñ', 'Ø', 'à', 'á', 'â', 'ä', 'ç', 'è', 'é', 'ë', 'ï', 'ó', 'ø', 'ü', 'ň', '́', 'α', 'γ', 'ε', 'μ', 'ς', 'σ', 'τ', 'Ё', 'Є', 'А', 'Б', 'В', 'Г', 'Д', 'Е', 'Ж', 'З', 'И', 'Й', 'К', 'Л', 'М', 'Н', 'О', 'П', 'Р', 'С', 'Т', 'У', 'Ф', 'Х', 'Ц', 'Ч', 'Ш', 'Щ', 'Ъ', 'Ы', 'Ь', 'Э', 'Ю', 'Я', 'а', 'б', 'в', 'г', 'д', 'е', 'ж', 'з', 'и', 'й', 'к', 'л', 'м', 'н', 'о', 'п', 'р', 'с', 'т', 'у', 'ф', 'х', 'ц', 'ч', 'ш', 'щ', 'ъ', 'ы', 'ь', 'э', 'ю', 'я', 'ё', 'є', 'і', 'ї', 'ѣ', 'ה', 'ו', 'ז', 'ח', 'י', 'פ', 'ץ', 'צ', '‑', '–', '—', '‘', '’', '“', '”', '„', '…', '№', '™', 'ⓔ']\n"
     ]
    }
   ],
   "source": [
    "print(len(tokens))\n",
    "print(tokens)"
   ]
  },
  {
   "cell_type": "code",
   "execution_count": 15,
   "metadata": {},
   "outputs": [],
   "source": [
    "with open('tokens.txt', 'w') as t_file:\n",
    "    t_file.write(''.join(tokens))"
   ]
  },
  {
   "cell_type": "markdown",
   "metadata": {},
   "source": [
    "### Вычисление и схоранение вероятностей начала предложений (букв)"
   ]
  },
  {
   "cell_type": "code",
   "execution_count": 16,
   "metadata": {},
   "outputs": [
    {
     "name": "stdout",
     "output_type": "stream",
     "text": [
      "[('—', 18676), ('–', 15963), ('В', 3572), ('Н', 3085), ('С', 3032), ('П', 2898), ('О', 2820), ('К', 2294), ('Я', 2285), ('М', 1933), ('Т', 1845), ('', 1664), ('«', 1554), ('И', 1456), ('[', 1308), ('Д', 1283), ('А', 1169), ('Э', 964), ('Г', 952), ('Ч', 807), ('З', 760), ('У', 675), ('Б', 664), ('Л', 612), ('Р', 535), ('Е', 476), ('Ш', 238), ('Х', 230), ('Ж', 218), ('*', 216), ('Ф', 180), ('Ю', 170), ('1', 163), ('\"', 151), ('3', 87), ('2', 83), ('I', 61), ('4', 59), ('L', 56), ('A', 39), ('Ц', 38), ('5', 33), ('…', 33), ('6', 32), ('(', 32), ('н', 29), ('H', 29), ('X', 29), ('“', 29), ('и', 28), ('S', 27), ('7', 26), ('T', 26), ('п', 25), ('D', 24), ('8', 22), ('9', 22), ('г', 22), ('в', 22), ('м', 21), ('P', 21), ('с', 20), ('W', 19), ('V', 18), ('B', 18), ('M', 18), ('C', 18), ('G', 17), ('.', 17), ('б', 16), ('к', 15), ('E', 14), ('$', 14), ('Щ', 13), ('т', 13), ('у', 11), ('0', 11), ('R', 11), ('O', 10), ('F', 10), ('о', 9), ('J', 9), ('ч', 8), ('э', 8), ('р', 8), ('t', 8), ('„', 8), ('©', 8), ('i', 7), ('д', 7), ('а', 7), ('<', 7), ('з', 6), ('N', 6), (':', 6), ('л', 5), ('х', 4), ('w', 4), ('g', 4), ('ח', 4), ('Y', 3), ('ш', 3), (' ', 3), ('!', 3), ('#', 3), ('f', 2), ('U', 2), ('h', 2), ('o', 2), ('d', 2), ('~', 2), ('n', 2), ('j', 2), ('е', 2), ('י', 2), ('ו', 2), ('ф', 1), ('>', 1), ('s', 1), ('b', 1), ('Q', 1), ('»', 1), ('/', 1), ('я', 1), ('?', 1), ('ז', 1), ('ה', 1), ('פ', 1), ('צ', 1), ('ץ', 1), ('K', 1), ('r', 1), ('l', 1), ('ц', 1), ('ж', 1)]\n"
     ]
    }
   ],
   "source": [
    "start_probs = {}\n",
    "for text in texts:\n",
    "    start_symbol = text[0] if len(text) > 0 else ''\n",
    "    if start_symbol not in start_probs:\n",
    "        start_probs[start_symbol] = 1\n",
    "    else:\n",
    "        start_probs[start_symbol] += 1\n",
    "start_list = sorted(list(start_probs.items()), key=lambda el: el[1], reverse=True)\n",
    "print(start_list)"
   ]
  },
  {
   "cell_type": "code",
   "execution_count": 17,
   "metadata": {},
   "outputs": [],
   "source": [
    "with open('start_of_sentences.txt', 'w') as s_file:\n",
    "    for s in start_list:\n",
    "        s_file.writelines(s[0] + '_' + str(s[1]) + '\\n')"
   ]
  }
 ],
 "metadata": {
  "kernelspec": {
   "display_name": "Python 3",
   "language": "python",
   "name": "python3"
  },
  "language_info": {
   "codemirror_mode": {
    "name": "ipython",
    "version": 3
   },
   "file_extension": ".py",
   "mimetype": "text/x-python",
   "name": "python",
   "nbconvert_exporter": "python",
   "pygments_lexer": "ipython3",
   "version": "3.7.5"
  },
  "latex_envs": {
   "LaTeX_envs_menu_present": true,
   "autoclose": false,
   "autocomplete": true,
   "bibliofile": "biblio.bib",
   "cite_by": "apalike",
   "current_citInitial": 1,
   "eqLabelWithNumbers": true,
   "eqNumInitial": 1,
   "hotkeys": {
    "equation": "Ctrl-E",
    "itemize": "Ctrl-I"
   },
   "labels_anchors": false,
   "latex_user_defs": false,
   "report_style_numbering": false,
   "user_envs_cfg": false
  },
  "toc": {
   "base_numbering": 1,
   "nav_menu": {},
   "number_sections": true,
   "sideBar": true,
   "skip_h1_title": false,
   "title_cell": "Table of Contents",
   "title_sidebar": "Contents",
   "toc_cell": false,
   "toc_position": {},
   "toc_section_display": true,
   "toc_window_display": false
  }
 },
 "nbformat": 4,
 "nbformat_minor": 4
}
