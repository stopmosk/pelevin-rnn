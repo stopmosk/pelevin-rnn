{
 "cells": [
  {
   "cell_type": "markdown",
   "metadata": {},
   "source": [
    "# Пелевин RNN - генерация текста"
   ]
  },
  {
   "cell_type": "code",
   "execution_count": 1,
   "metadata": {
    "ExecuteTime": {
     "end_time": "2019-11-05T18:20:34.854793Z",
     "start_time": "2019-11-05T18:20:34.372865Z"
    }
   },
   "outputs": [],
   "source": [
    "import os\n",
    "import random\n",
    "\n",
    "import numpy as np\n",
    "import matplotlib.pyplot as plt\n",
    "%matplotlib inline\n",
    "\n",
    "import torch\n",
    "import torch.nn.functional as F\n",
    "\n",
    "from torch.nn import Embedding, Linear, LSTM, Dropout\n",
    "\n",
    "from IPython.display import clear_output"
   ]
  },
  {
   "cell_type": "markdown",
   "metadata": {},
   "source": [
    "### Загрузка токенов"
   ]
  },
  {
   "cell_type": "code",
   "execution_count": 2,
   "metadata": {},
   "outputs": [],
   "source": [
    "with open('tokens.txt') as t_file:\n",
    "    tokens_string = t_file.read()\n",
    "tokens = list(tokens_string)"
   ]
  },
  {
   "cell_type": "code",
   "execution_count": 3,
   "metadata": {
    "ExecuteTime": {
     "end_time": "2019-11-05T18:21:31.653673Z",
     "start_time": "2019-11-05T18:21:31.578424Z"
    }
   },
   "outputs": [],
   "source": [
    "token_to_id = {token: idx for idx, token in enumerate(tokens)}\n",
    "num_tokens = len(tokens)\n",
    "\n",
    "# print(tokens)"
   ]
  },
  {
   "cell_type": "code",
   "execution_count": 4,
   "metadata": {},
   "outputs": [
    {
     "name": "stdout",
     "output_type": "stream",
     "text": [
      "214\n"
     ]
    }
   ],
   "source": [
    "print(len(tokens))"
   ]
  },
  {
   "cell_type": "markdown",
   "metadata": {},
   "source": [
    "### Загрузка вероятностей начала предложений (букв)"
   ]
  },
  {
   "cell_type": "code",
   "execution_count": 5,
   "metadata": {},
   "outputs": [],
   "source": [
    "start_letters = []\n",
    "start_probs = []\n",
    "\n",
    "with open('start_of_sentences.txt') as s_file:\n",
    "    for line in s_file:\n",
    "        line = line.rstrip()\n",
    "        letter, prob = line.split('_')\n",
    "        start_letters.append(letter)\n",
    "        start_probs.append(int(prob))\n",
    "\n",
    "p_sum = sum(start_probs)\n",
    "start_probs = [el/p_sum for el in start_probs]\n",
    "\n",
    "# print(start_letters)\n",
    "# print(p_sum)\n",
    "# print(sum(start_probs))"
   ]
  },
  {
   "cell_type": "code",
   "execution_count": 6,
   "metadata": {},
   "outputs": [],
   "source": [
    "def get_start_letter(start_letters, start_probs):\n",
    "    letter = np.random.choice(start_letters, p=start_probs)\n",
    "    return letter\n",
    "\n",
    "# for i in range(1000):\n",
    "#     print(get_start_letter(start_letters, start_probs), end='')"
   ]
  },
  {
   "cell_type": "markdown",
   "metadata": {},
   "source": [
    "### Определение модели"
   ]
  },
  {
   "cell_type": "code",
   "execution_count": 7,
   "metadata": {},
   "outputs": [],
   "source": [
    "class PelevinRNN(torch.nn.Module):\n",
    "    def __init__(self, num_tokens=num_tokens, emb_size=100, rnn_num_units=512):\n",
    "        super(self.__class__, self).__init__()\n",
    "        self.emb = Embedding(num_tokens, emb_size)\n",
    "        self.rnn = LSTM(emb_size, rnn_num_units, num_layers=3, batch_first=True)\n",
    "        self.hid_to_logits = Linear(rnn_num_units, num_tokens)\n",
    "        self.dropout = Dropout(p=0.6)\n",
    "\n",
    "    def forward(self, x, hidden_state=None):\n",
    "        x = self.dropout(self.emb(x))\n",
    "        if hidden_state is not None:\n",
    "            h_seq, new_hidden = self.rnn(x, hidden_state)\n",
    "        else:\n",
    "            h_seq, new_hidden = self.rnn(x)\n",
    "        next_logits = self.hid_to_logits(h_seq)\n",
    "        next_logp = F.log_softmax(next_logits, dim=-1)\n",
    "        return next_logp, new_hidden"
   ]
  },
  {
   "cell_type": "code",
   "execution_count": 8,
   "metadata": {},
   "outputs": [
    {
     "data": {
      "text/plain": [
       "PelevinRNN(\n",
       "  (emb): Embedding(214, 100)\n",
       "  (rnn): LSTM(100, 512, num_layers=3, batch_first=True)\n",
       "  (hid_to_logits): Linear(in_features=512, out_features=214, bias=True)\n",
       "  (dropout): Dropout(p=0.6, inplace=False)\n",
       ")"
      ]
     },
     "execution_count": 8,
     "metadata": {},
     "output_type": "execute_result"
    }
   ],
   "source": [
    "model = PelevinRNN().cuda()\n",
    "model.eval()"
   ]
  },
  {
   "cell_type": "markdown",
   "metadata": {},
   "source": [
    "### Определение функции генерации семплов"
   ]
  },
  {
   "cell_type": "code",
   "execution_count": 9,
   "metadata": {},
   "outputs": [],
   "source": [
    "MAX_LEN = 800\n",
    "\n",
    "def generate_sample(model, seed_phrase=None, max_length=MAX_LEN, temperature=1.0):\n",
    "\n",
    "    if seed_phrase is None:\n",
    "        seed_phrase = get_start_letter(start_letters, start_probs)\n",
    "\n",
    "    if seed_phrase == '':\n",
    "        return ''\n",
    "    \n",
    "    seq = [[token_to_id[token] for token in seed_phrase]]\n",
    "    seq = torch.tensor([seq], dtype=torch.int64).cuda()\n",
    "    \n",
    "    hidden_s = None\n",
    "    for i in range(len(seed_phrase) - 1):\n",
    "        _, hidden_s = model.forward(seq[:, :, i], hidden_s)\n",
    "    \n",
    "    for _ in range(max_length - len(seed_phrase)):\n",
    "        logp_next, hidden_s = model.forward(seq[:, :, -1], hidden_s)\n",
    "        p_next = F.softmax(logp_next / temperature, dim=-1).data.cpu().numpy()[0]\n",
    "        next_ix = np.random.choice(len(tokens), p=p_next[0])\n",
    "        next_ix = torch.tensor([[[next_ix]]], dtype=torch.int64).cuda()\n",
    "        seq = torch.cat([seq, next_ix], dim=2)\n",
    "        \n",
    "    return ''.join([tokens[ix] for ix in seq[0, 0].data.cpu().numpy()])"
   ]
  },
  {
   "cell_type": "markdown",
   "metadata": {},
   "source": [
    "### Загрузка весов модели"
   ]
  },
  {
   "cell_type": "code",
   "execution_count": 10,
   "metadata": {},
   "outputs": [
    {
     "data": {
      "text/plain": [
       "<All keys matched successfully>"
      ]
     },
     "execution_count": 10,
     "metadata": {},
     "output_type": "execute_result"
    }
   ],
   "source": [
    "model.load_state_dict(torch.load('model-final.lol'))"
   ]
  },
  {
   "cell_type": "code",
   "execution_count": 11,
   "metadata": {},
   "outputs": [
    {
     "data": {
      "text/plain": [
       "<bound method Module.parameters of PelevinRNN(\n",
       "  (emb): Embedding(214, 100)\n",
       "  (rnn): LSTM(100, 512, num_layers=3, batch_first=True)\n",
       "  (hid_to_logits): Linear(in_features=512, out_features=214, bias=True)\n",
       "  (dropout): Dropout(p=0.6, inplace=False)\n",
       ")>"
      ]
     },
     "execution_count": 11,
     "metadata": {},
     "output_type": "execute_result"
    }
   ],
   "source": [
    "model.parameters"
   ]
  },
  {
   "cell_type": "markdown",
   "metadata": {},
   "source": [
    "### Веселимся!"
   ]
  },
  {
   "cell_type": "code",
   "execution_count": 12,
   "metadata": {},
   "outputs": [
    {
     "name": "stdout",
     "output_type": "stream",
     "text": [
      "— Вы как раз так называете это самое пространство, — сказал он. — Но ведь надо будет знать, что такое желтое поле на соседней комнате.                                                                                                                                                                                                                                                                                                                                                                                                                                                                                                                                                                                                                                                                                          \n",
      "Грым не стал спорить с ним в результате одного из них.                                                                                                                                                                                                                                                                                                                                                                                                                                                                                                                                                                                                                                                                                                                                                                          \n",
      "— Да ведь ты не понимаешь, — сказал я, — что надо проверить подобную последовательность.                                                                                                                                                                                                                                                                                                                                                                                                                                                                                                                                                                                                                                                                                                                                        \n",
      "Он наклонился к стене и направился к пропасть.                                                                                                                                                                                                                                                                                                                                                                                                                                                                                                                                                                                                                                                                                                                                                                                  \n",
      "По дороге он понял, что при этом смотрит на себя внимание. Возможно, в последнее время он просто не понимал, как она становится все состоительно и непрерывно.                                                                                                                                                                                                                                                                                                                                                                                                                                                                                                                                                                                                                                                                  \n",
      "— Я не понимаю, — сказал я. — Слушай, на что мы с тобой делаем.                                                                                                                                                                                                                                                                                                                                                                                                                                                                                                                                                                                                                                                                                                                                                                 \n",
      "Таня не отреагировала на мои слова.                                                                                                                                                                                                                                                                                                                                                                                                                                                                                                                                                                                                                                                                                                                                                                                             \n",
      "– Нет, – ответил я. – Но ведь ты не понимаешь, что такое «правда на самом деле».                                                                                                                                                                                                                                                                                                                                                                                                                                                                                                                                                                                                                                                                                                                                                \n",
      "Хотя я не сомневался, что в этом применения не было никакой возможности с помощью магического состояния на словах — и именно на него все делалось в совершенно немалом — но не особо приятно, как не следует развернуться и получить от него просто странное пространство.                                                                                                                                                                                                                                                                                                                                                                                                                                                                                                                                                      \n",
      "И вдруг я понял, что это такое.                                                                                                                                                                                                                                                                                                                                                                                                                                                                                                                                                                                                                                                                                                                                                                                                 \n",
      "— Подожди, — сказал он, — не просто меня.                                                                                                                                                                                                                                                                                                                                                                                                                                                                                                                                                                                                                                                                                                                                                                                       \n",
      "Но я не сомневался, что это не как угодно. Но когда я проснулся, мы проснулись в полутьме, выпускали из кармана длинные стены и поднялись на него.                                                                                                                                                                                                                                                                                                                                                                                                                                                                                                                                                                                                                                                                              \n",
      "Теперь я понял, что в слове «план» — это очень странное состояние бесконечно продвинутого вида…                                                                                                                                                                                                                                                                                                                                                                                                                                                                                                                                                                                                                                                                                                                                 \n",
      "Голос у нее был в пространстве между ними – и получил свое производство менее причиной как свет. Степа почувствовал себя довольно устало.                                                                                                                                                                                                                                                                                                                                                                                                                                                                                                                                                                                                                                                                                       \n",
      "Зато это была отрезанная по горлышко пластиковый проводок, а в следующий момент его держала детская стрелка в сторону и надолго заставила ее приехать в свой стол.                                                                                                                                                                                                                                                                                                                                                                                                                                                                                                                                                                                                                                                              \n",
      "— Понял, — сказал он. — Вы знаете, что ты про это знаешь?                                                                                                                                                                                                                                                                                                                                                                                                                                                                                                                                                                                                                                                                                                                                                                       \n",
      "Но в этот раз он показался мне страшным – и понял, что она сама подставляла мне в голову невидимую клетку – и положила его на пол.                                                                                                                                                                                                                                                                                                                                                                                                                                                                                                                                                                                                                                                                                              \n",
      "— А что такое исполняете?                                                                                                                                                                                                                                                                                                                                                                                                                                                                                                                                                                                                                                                                                                                                                                                                       \n",
      "***                                                                                                                                                                                                                                                                                                                                                                                                                                                                                                                                                                                                                                                                                                                                                                                                                             \n",
      "В последнее время он был прекрасен и сложный молодой человек в небесах под ногами.                                                                                                                                                                                                                                                                                                                                                                                                                                                                                                                                                                                                                                                                                                                                              \n",
      "— Вот это и есть общий продолговатый привет, который иногда приходит в голову возникновения своим методом. Это и есть всякий смысл.                                                                                                                                                                                                                                                                                                                                                                                                                                                                                                                                                                                                                                                                                             \n",
      "— Потому что она старается убить все современное состояние. Но то, что вы собираетесь поверить, что они получают в себе от пространства событий, отражающих меня в жизни все возможные генералы и технические процессы. И это слово «вот в стране» — это когда вы упоминаете себя не только в нашей стране.                                                                                                                                                                                                                                                                                                                                                                                                                                                                                                                     \n",
      "При виде этой точки зрения стали какими-то странными и страшными. На нем были старые коробки с красными крыльями и подрагивающими на груди воды в нескольких местах под кроватью и поднимались по сторонам. В ней были короткие коровы, как бы привычно забывая о том, что в темноте не было ни одного из моих рук. Но по этой же причине в этом было последнее слово на подобные процедуры в конце концов.                                                                                                                                                                                                                                                                                                                                                                                                                     \n",
      "– Да, – сказал я. – А что это за карлик с миром?                                                                                                                                                                                                                                                                                                                                                                                                                                                                                                                                                                                                                                                                                                                                                                                \n",
      "Мой взгляд мертв совершенно не по себе.                                                                                                                                                                                                                                                                                                                                                                                                                                                                                                                                                                                                                                                                                                                                                                                         \n",
      "– Ну и что?                                                                                                                                                                                                                                                                                                                                                                                                                                                                                                                                                                                                                                                                                                                                                                                                                     \n",
      "Мара улыбнулась.                                                                                                                                                                                                                                                                                                                                                                                                                                                                                                                                                                                                                                                                                                                                                                                                                \n",
      "– Почему?                                                                                                                                                                                                                                                                                                                                                                                                                                                                                                                                                                                                                                                                                                                                                                                                                       \n",
      "Конечно, не было никакой причины, которое привело к нему на голову ответного мотора. Он стал выпирать в свое прошлое напротив мира и сменился совершенно не в себе. Она подняла глаза на пол, и в нем проснулась не окончательная версия — за одним из столиков в программе было не так, как на моем лице и стояло несколько невидимых морем, а в следующий момент он поднял голову и принял за него — и сразу же заметил, что на нее смотрели по домам и поверх его под ноги выступили на тот случай, когда он вышел из комнаты своей комнатке.                                                                                                                                                                                                                                                                                \n",
      "Последнее платье с карандашом было несколько просторных пространств на крыше стены, похожее на короткий коридор с открытым ртом. Он положил ее в воздух и пошел к двери, и тот поднял голову.                                                                                                                                                                                                                                                                                                                                                                                                                                                                                                                                                                                                                                   \n"
     ]
    }
   ],
   "source": [
    "for _ in range(30):\n",
    "    sample = generate_sample(model, seed_phrase=None, temperature=0.4)\n",
    "    print(sample)"
   ]
  },
  {
   "cell_type": "code",
   "execution_count": 13,
   "metadata": {},
   "outputs": [
    {
     "name": "stdout",
     "output_type": "stream",
     "text": [
      "Однажды он узнал только два стакана и положил его в воздух и оглядел себя в подобие стены.                                                                                                                                                                                                                                                                                                                                                                                                                                                                                                                                                                                                                                                                                                                                      \n",
      "Однажды, когда Татарский попытался открыть рот, он поднял голову и увидел его правоту. Над столом лежал короткий черный красный пластиковый кружок с красным лицом, растущими в красной полосе и запел на темном компьютере.                                                                                                                                                                                                                                                                                                                                                                                                                                                                                                                                                                                                    \n",
      "Однажды он вспомнил, как раз уж тут же половину выкрикивало.                                                                                                                                                                                                                                                                                                                                                                                                                                                                                                                                                                                                                                                                                                                                                                    \n",
      "Однажды он увидел впереди и повернулся к Сердюку и назад в комнату закрыл глаза.                                                                                                                                                                                                                                                                                                                                                                                                                                                                                                                                                                                                                                                                                                                                                \n",
      "Однажды днем пришла в голову такая же возрастной скромность, которую она совершенно не изменилась. Я оказался в растрепанном костюме и заснул за нее, сколько стоит голый под ней, обратил внимание на открытое место и стала читать с тем, что она не поставила на стол своей палочкой. Прислушиваясь к столу и сказал сегодня, когда произошло это слово — он поступил в гостиницу на вершине горы, при котором сидел прозрачный коробок, и он был прав.                                                                                                                                                                                                                                                                                                                                                                      \n",
      "Однажды он вытащил из кармана так же жестоко, что возник свечу, и в комнату вошла довольно старая женщина в полутьме в небе.                                                                                                                                                                                                                                                                                                                                                                                                                                                                                                                                                                                                                                                                                                    \n",
      "Однажды мне очень походило на справедливость — народ в ней не смог бы облегчить на стол стола и выглядел так же вероятно, что ее привычно заговорил с ним с гордостью.                                                                                                                                                                                                                                                                                                                                                                                                                                                                                                                                                                                                                                                          \n",
      "Однажды он открыл глаза, и сказал:                                                                                                                                                                                                                                                                                                                                                                                                                                                                                                                                                                                                                                                                                                                                                                                              \n",
      "Однажды, когда он поднял голову, открыл глаза и увидел, что сейчас произойдет подниматься вверх, потом опять заметил, что от нее за спиной заставляло меня подняться на ноги.                                                                                                                                                                                                                                                                                                                                                                                                                                                                                                                                                                                                                                                   \n",
      "Однажды он заметил, что водит ли меня на своем соседнем маниту, когда мне показалось, что ему на него взгляд на меня не возражал.                                                                                                                                                                                                                                                                                                                                                                                                                                                                                                                                                                                                                                                                                               \n"
     ]
    }
   ],
   "source": [
    "start_symbol = 'Однажды'\n",
    "for _ in range(10):\n",
    "    sample = generate_sample(model, seed_phrase=start_symbol, temperature=0.5)\n",
    "    print(sample)"
   ]
  },
  {
   "cell_type": "code",
   "execution_count": null,
   "metadata": {},
   "outputs": [],
   "source": []
  }
 ],
 "metadata": {
  "kernelspec": {
   "display_name": "Python 3",
   "language": "python",
   "name": "python3"
  },
  "language_info": {
   "codemirror_mode": {
    "name": "ipython",
    "version": 3
   },
   "file_extension": ".py",
   "mimetype": "text/x-python",
   "name": "python",
   "nbconvert_exporter": "python",
   "pygments_lexer": "ipython3",
   "version": "3.7.5"
  },
  "latex_envs": {
   "LaTeX_envs_menu_present": true,
   "autoclose": false,
   "autocomplete": true,
   "bibliofile": "biblio.bib",
   "cite_by": "apalike",
   "current_citInitial": 1,
   "eqLabelWithNumbers": true,
   "eqNumInitial": 1,
   "hotkeys": {
    "equation": "Ctrl-E",
    "itemize": "Ctrl-I"
   },
   "labels_anchors": false,
   "latex_user_defs": false,
   "report_style_numbering": false,
   "user_envs_cfg": false
  },
  "toc": {
   "base_numbering": 1,
   "nav_menu": {},
   "number_sections": true,
   "sideBar": true,
   "skip_h1_title": false,
   "title_cell": "Table of Contents",
   "title_sidebar": "Contents",
   "toc_cell": false,
   "toc_position": {},
   "toc_section_display": true,
   "toc_window_display": false
  }
 },
 "nbformat": 4,
 "nbformat_minor": 4
}
