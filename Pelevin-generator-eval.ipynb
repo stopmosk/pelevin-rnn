{
 "cells": [
  {
   "cell_type": "markdown",
   "metadata": {},
   "source": [
    "# Пелевин RNN - генерация текста"
   ]
  },
  {
   "cell_type": "code",
   "execution_count": 1,
   "metadata": {
    "ExecuteTime": {
     "end_time": "2019-11-05T18:20:34.854793Z",
     "start_time": "2019-11-05T18:20:34.372865Z"
    }
   },
   "outputs": [],
   "source": [
    "import os\n",
    "import random\n",
    "\n",
    "import numpy as np\n",
    "import matplotlib.pyplot as plt\n",
    "%matplotlib inline\n",
    "\n",
    "import torch\n",
    "import torch.nn.functional as F\n",
    "\n",
    "from torch.nn import Embedding, Linear, LSTM, Dropout\n",
    "\n",
    "from IPython.display import clear_output"
   ]
  },
  {
   "cell_type": "markdown",
   "metadata": {},
   "source": [
    "### Загрузка токенов"
   ]
  },
  {
   "cell_type": "code",
   "execution_count": 2,
   "metadata": {},
   "outputs": [],
   "source": [
    "with open('tokens.txt') as t_file:\n",
    "    tokens_string = t_file.read()\n",
    "tokens = list(tokens_string)"
   ]
  },
  {
   "cell_type": "code",
   "execution_count": 3,
   "metadata": {
    "ExecuteTime": {
     "end_time": "2019-11-05T18:21:31.653673Z",
     "start_time": "2019-11-05T18:21:31.578424Z"
    }
   },
   "outputs": [],
   "source": [
    "token_to_id = {token: idx for idx, token in enumerate(tokens)}\n",
    "num_tokens = len(tokens)\n",
    "\n",
    "# print(tokens)"
   ]
  },
  {
   "cell_type": "code",
   "execution_count": 5,
   "metadata": {},
   "outputs": [
    {
     "name": "stdout",
     "output_type": "stream",
     "text": [
      "214\n"
     ]
    }
   ],
   "source": [
    "print(len(tokens))"
   ]
  },
  {
   "cell_type": "markdown",
   "metadata": {},
   "source": [
    "### Загрузка вероятностей начала предложений (букв)"
   ]
  },
  {
   "cell_type": "code",
   "execution_count": 6,
   "metadata": {},
   "outputs": [],
   "source": [
    "start_letters = []\n",
    "start_probs = []\n",
    "\n",
    "with open('start_of_sentences.txt') as s_file:\n",
    "    for line in s_file:\n",
    "        line = line.rstrip()\n",
    "        letter, prob = line.split('_')\n",
    "        start_letters.append(letter)\n",
    "        start_probs.append(int(prob))\n",
    "\n",
    "p_sum = sum(start_probs)\n",
    "start_probs = [el/p_sum for el in start_probs]\n",
    "\n",
    "# print(start_letters)\n",
    "# print(p_sum)\n",
    "# print(sum(start_probs))"
   ]
  },
  {
   "cell_type": "code",
   "execution_count": 7,
   "metadata": {},
   "outputs": [],
   "source": [
    "def get_start_letter(start_letters, start_probs):\n",
    "    letter = np.random.choice(start_letters, p=start_probs)\n",
    "    return letter\n",
    "\n",
    "# for i in range(1000):\n",
    "#     print(get_start_letter(start_letters, start_probs), end='')"
   ]
  },
  {
   "cell_type": "markdown",
   "metadata": {},
   "source": [
    "### Определение модели"
   ]
  },
  {
   "cell_type": "code",
   "execution_count": 8,
   "metadata": {},
   "outputs": [],
   "source": [
    "class PelevinRNN(torch.nn.Module):\n",
    "    def __init__(self, num_tokens=num_tokens, emb_size=100, rnn_num_units=512):\n",
    "        super(self.__class__, self).__init__()\n",
    "        self.emb = Embedding(num_tokens, emb_size)\n",
    "        self.rnn = LSTM(emb_size, rnn_num_units, num_layers=3, batch_first=True)\n",
    "        self.hid_to_logits = Linear(rnn_num_units, num_tokens)\n",
    "        self.dropout = Dropout(p=0.6)\n",
    "\n",
    "    def forward(self, x, hidden_state=None):\n",
    "        x = self.dropout(self.emb(x))\n",
    "        if hidden_state is not None:\n",
    "            h_seq, new_hidden = self.rnn(x, hidden_state)\n",
    "        else:\n",
    "            h_seq, new_hidden = self.rnn(x)\n",
    "        next_logits = self.hid_to_logits(h_seq)\n",
    "        next_logp = F.log_softmax(next_logits, dim=-1)\n",
    "        return next_logp, new_hidden"
   ]
  },
  {
   "cell_type": "code",
   "execution_count": 9,
   "metadata": {},
   "outputs": [],
   "source": [
    "model = PelevinRNN().cuda()\n",
    "model.eval()"
   ]
  },
  {
   "cell_type": "markdown",
   "metadata": {},
   "source": [
    "### Определение функции генерации семплов"
   ]
  },
  {
   "cell_type": "code",
   "execution_count": 10,
   "metadata": {},
   "outputs": [],
   "source": [
    "MAX_LEN = 800\n",
    "\n",
    "def generate_sample(model, seed_phrase=None, max_length=MAX_LEN, temperature=1.0):\n",
    "\n",
    "    if seed_phrase is None:\n",
    "        seed_phrase = get_start_letter(start_letters, start_probs)\n",
    "\n",
    "    if seed_phrase == '':\n",
    "        return ''\n",
    "    \n",
    "    seq = [[token_to_id[token] for token in seed_phrase]]\n",
    "    seq = torch.tensor([seq], dtype=torch.int64).cuda()\n",
    "    \n",
    "    hidden_s = None\n",
    "    for i in range(len(seed_phrase) - 1):\n",
    "        _, hidden_s = model.forward(seq[:, :, i], hidden_s)\n",
    "    \n",
    "    for _ in range(max_length - len(seed_phrase)):\n",
    "        logp_next, hidden_s = model.forward(seq[:, :, -1], hidden_s)\n",
    "        p_next = F.softmax(logp_next / temperature, dim=-1).data.cpu().numpy()[0]\n",
    "        next_ix = np.random.choice(len(tokens), p=p_next[0])\n",
    "        next_ix = torch.tensor([[[next_ix]]], dtype=torch.int64).cuda()\n",
    "        seq = torch.cat([seq, next_ix], dim=2)\n",
    "        \n",
    "    return ''.join([tokens[ix] for ix in seq[0, 0].data.cpu().numpy()])"
   ]
  },
  {
   "cell_type": "markdown",
   "metadata": {},
   "source": [
    "### Загрузка весов модели"
   ]
  },
  {
   "cell_type": "code",
   "execution_count": 11,
   "metadata": {},
   "outputs": [
    {
     "data": {
      "text/plain": [
       "<All keys matched successfully>"
      ]
     },
     "execution_count": 11,
     "metadata": {},
     "output_type": "execute_result"
    }
   ],
   "source": [
    "model.load_state_dict(torch.load('model.lol'))"
   ]
  },
  {
   "cell_type": "code",
   "execution_count": 12,
   "metadata": {},
   "outputs": [
    {
     "data": {
      "text/plain": [
       "<bound method Module.parameters of PelevinRNN(\n",
       "  (emb): Embedding(214, 100)\n",
       "  (rnn): LSTM(100, 512, num_layers=3, batch_first=True)\n",
       "  (hid_to_logits): Linear(in_features=512, out_features=214, bias=True)\n",
       "  (dropout): Dropout(p=0.6, inplace=False)\n",
       ")>"
      ]
     },
     "execution_count": 12,
     "metadata": {},
     "output_type": "execute_result"
    }
   ],
   "source": [
    "model.parameters"
   ]
  },
  {
   "cell_type": "markdown",
   "metadata": {},
   "source": [
    "### Веселимся!"
   ]
  },
  {
   "cell_type": "code",
   "execution_count": 15,
   "metadata": {},
   "outputs": [
    {
     "name": "stdout",
     "output_type": "stream",
     "text": [
      "— А что тебе не просто получается?                                                                                                                                                                                                                                                                                                                                                                                                                                                                                                                                                                                                                                                                                                                                                                                              \n",
      "По этому пространство прикрепились в сторону с киной и стояли две пальцев в капиталину по коридору.                                                                                                                                                                                                                                                                                                                                                                                                                                                                                                                                                                                                                                                                                                                             \n",
      "– А что случится?                                                                                                                                                                                                                                                                                                                                                                                                                                                                                                                                                                                                                                                                                                                                                                                                               \n",
      "Я не понял, что не понимал, что в ней было не произошло.                                                                                                                                                                                                                                                                                                                                                                                                                                                                                                                                                                                                                                                                                                                                                                        \n",
      "Сначала он сказал, что это по поводу происходит в себя на нее слово «портрет».                                                                                                                                                                                                                                                                                                                                                                                                                                                                                                                                                                                                                                                                                                                                                  \n",
      "После этого не стоит появиться по небу на статую странную стену в том, что не просто поменять на дороге.                                                                                                                                                                                                                                                                                                                                                                                                                                                                                                                                                                                                                                                                                                                        \n",
      "— Почему ты понял?                                                                                                                                                                                                                                                                                                                                                                                                                                                                                                                                                                                                                                                                                                                                                                                                              \n",
      "Мара подняла глаза.                                                                                                                                                                                                                                                                                                                                                                                                                                                                                                                                                                                                                                                                                                                                                                                                             \n",
      "В виду положили меня с полной полосы в голову, что он долго не понял, что он пришел в себя по всему, как бы все время полагалось от него и поставил про тридцать метров в руках.                                                                                                                                                                                                                                                                                                                                                                                                                                                                                                                                                                                                                                                \n",
      "– Ты вот так скажешь, что ты сам почувствовал?                                                                                                                                                                                                                                                                                                                                                                                                                                                                                                                                                                                                                                                                                                                                                                                  \n",
      "Голгофский полагал, что говорил на самом деле — он выходит в голову и не видел.                                                                                                                                                                                                                                                                                                                                                                                                                                                                                                                                                                                                                                                                                                                                                 \n",
      "Через несколько секунд он повернулся к ней и поставил себя в серьезном случае – в полном комнате стало признаться, что он вынул из коридора, державшийся на стол в комнату в сторону.                                                                                                                                                                                                                                                                                                                                                                                                                                                                                                                                                                                                                                           \n",
      "Он понял, что понял, что это на ней было не в какой-то странное пространство просто похожее на невероятное в страну.                                                                                                                                                                                                                                                                                                                                                                                                                                                                                                                                                                                                                                                                                                            \n",
      "Грым понял, что совершенно не понял, что в состоянии с ней появился в коридор и посмотрел на нее своими полу слова «небольшой город», но в небе в бородке на полу возразила без всякого солнца в другом существенном причине, и стало просто похожее на полное время в полном и простом случае при котором стало бы понять, что он стал своим контрольным по пространством общественного состояния тоже в последнем связенном привести в своем полном полном сознании.                                                                                                                                                                                                                                                                                                                                                          \n",
      "Поэтому он всегда понял, что просто словно в современном последнем случае не про нее не помнит.                                                                                                                                                                                                                                                                                                                                                                                                                                                                                                                                                                                                                                                                                                                                 \n",
      "– Не понимаю, – сказал он. – Только постоянно все время в чем не слышал.                                                                                                                                                                                                                                                                                                                                                                                                                                                                                                                                                                                                                                                                                                                                                        \n",
      "\n",
      "– Вернее, — сказал я. – А вот по комнате, скажем, ты совсем не успел понять, что в ней не просто приведет в полному своим странному вопросам, которые они попадают в себя в странной полу и попадают. Когда он нам не всегда не просто не понял, что все время по нему не было.                                                                                                                                                                                                                                                                                                                                                                                                                                                                                                                                                 \n",
      "– Да и что это слово?                                                                                                                                                                                                                                                                                                                                                                                                                                                                                                                                                                                                                                                                                                                                                                                                           \n",
      "Что это под столом по нему просто приносили в какой-нибудь своей сумме, и все они открылись в коридор в руках и постепенно просто подобие просторные пространства и положено на свое действия.                                                                                                                                                                                                                                                                                                                                                                                                                                                                                                                                                                                                                                  \n",
      "Как требуем два дня за свое время в комнате всего осталось от открытого полярного белого приборования – и просто понял, что он не успел понять, что он понял, что в нем было не в свою слова «молодежность».                                                                                                                                                                                                                                                                                                                                                                                                                                                                                                                                                                                                                    \n",
      "\n",
      "— Как тебе показалось, что на самом деле все про свои вещи не помню.                                                                                                                                                                                                                                                                                                                                                                                                                                                                                                                                                                                                                                                                                                                                                            \n",
      "— Ну что ты думаешь, что это делают с ним по поводу и принял?                                                                                                                                                                                                                                                                                                                                                                                                                                                                                                                                                                                                                                                                                                                                                                   \n",
      "– Вот так, — сказал он, — все это просто не в нее просто не понимает.                                                                                                                                                                                                                                                                                                                                                                                                                                                                                                                                                                                                                                                                                                                                                           \n",
      "– Не помню, — сказал он. — И не понял, что ты понял, что такое произошло.                                                                                                                                                                                                                                                                                                                                                                                                                                                                                                                                                                                                                                                                                                                                                       \n",
      "Александр поднял глаза.                                                                                                                                                                                                                                                                                                                                                                                                                                                                                                                                                                                                                                                                                                                                                                                                         \n",
      "На стене появился невидимый собственный двери, но на конце конца не обращались в тренировка, и стало увидеть свои полные круглые контроля в белой комнате, который он успел понять на резинованное небольшое и прочее, а на нее было на содержание на полном поверхности к нему и вспомнил по комнату.                                                                                                                                                                                                                                                                                                                                                                                                                                                                                                                          \n",
      "Дамиан поглядел на полу в сторону по сторонам и поглядел на нее на полу и повернулся к ней, но постепенно подумал, что на ней была по его странному странному и страхам – каждый раз поднял глаза.                                                                                                                                                                                                                                                                                                                                                                                                                                                                                                                                                                                                                              \n",
      "А что будет все время в своем смысле, что с ним становится только одно из него и все время не обладает.                                                                                                                                                                                                                                                                                                                                                                                                                                                                                                                                                                                                                                                                                                                         \n"
     ]
    }
   ],
   "source": [
    "for _ in range(30):\n",
    "    sample = generate_sample(model, seed_phrase=None, temperature=0.4)\n",
    "    print(sample)"
   ]
  },
  {
   "cell_type": "code",
   "execution_count": 32,
   "metadata": {},
   "outputs": [
    {
     "name": "stdout",
     "output_type": "stream",
     "text": [
      "Однажды в своем причине, когда была открыта только такое положеное в массовом полосе – и была сделана с собой по небесному волку, и полностью открылась.                                                                                                                                                                                                                                                                                                                                                                                                                                                                                                                                                                                                                                                                        \n",
      "Однажды он просвечивал на их пола и после этого он повернулся к половину рукой по водой и поставил полной полосе в полу волосы деревья и положила руку с собой в сторону с собой ладонью в половине.                                                                                                                                                                                                                                                                                                                                                                                                                                                                                                                                                                                                                            \n",
      "Однажды поднялся в ее в руке с непонятным образом он по силе, и в нем были разноцветные колорки, чтобы повернуть к облакам в соседнем пространстве и странно, на котором полетели по поверхности несколько провода, и последнее не старалось никакого отношения.                                                                                                                                                                                                                                                                                                                                                                                                                                                                                                                                                                \n",
      "Однажды он понял, что он знал. Такой силу в том, что представляется сам дело, как он произошло в том, что у них были ответовано об этом не обращалось и получилось с третьего движения от коллективного стекла.                                                                                                                                                                                                                                                                                                                                                                                                                                                                                                                                                                                                                 \n",
      "Однажды он ничего не видел это не особо значительно и крохотно закрывал глаза.                                                                                                                                                                                                                                                                                                                                                                                                                                                                                                                                                                                                                                                                                                                                                  \n",
      "Однажды он стал понять, что теперь все время от всех меня напоминал на землю в своей первый раз в своей воздухе. Это была просто на картинке в бутылке, он с ответственно провисал на коленях и стал размножаться противоречием.                                                                                                                                                                                                                                                                                                                                                                                                                                                                                                                                                                                                \n",
      "Однажды не понимал, что это не совсем не совсем не и понял.                                                                                                                                                                                                                                                                                                                                                                                                                                                                                                                                                                                                                                                                                                                                                                     \n",
      "Однажды в какой-нибудь другой стране всегда попадали в только в своем западном полу волосы и делалось не из меня не только по ней в полной странной реальности будет по какому-нибудь за каждую информацию к другому из много интереса.                                                                                                                                                                                                                                                                                                                                                                                                                                                                                                                                                                                         \n",
      "Однажды они показались по столом прямо на коленях и помотала головой.                                                                                                                                                                                                                                                                                                                                                                                                                                                                                                                                                                                                                                                                                                                                                           \n",
      "Однажды все оставалось от меня по несколько секунд и после меня показался именно так – он начинал себя смысла прикидать в виду странное перед этим необходимостью уже подняться с ней и просто поднявшись по сторонам, и только что было не в сознании, когда поднял глаза.                                                                                                                                                                                                                                                                                                                                                                                                                                                                                                                                                     \n"
     ]
    }
   ],
   "source": [
    "start_symbol = 'Однажды'\n",
    "for _ in range(10):\n",
    "    sample = generate_sample(model, seed_phrase=start_symbol, temperature=0.5)\n",
    "    print(sample)"
   ]
  },
  {
   "cell_type": "code",
   "execution_count": null,
   "metadata": {},
   "outputs": [],
   "source": []
  }
 ],
 "metadata": {
  "kernelspec": {
   "display_name": "Python 3",
   "language": "python",
   "name": "python3"
  },
  "language_info": {
   "codemirror_mode": {
    "name": "ipython",
    "version": 3
   },
   "file_extension": ".py",
   "mimetype": "text/x-python",
   "name": "python",
   "nbconvert_exporter": "python",
   "pygments_lexer": "ipython3",
   "version": "3.7.5"
  },
  "latex_envs": {
   "LaTeX_envs_menu_present": true,
   "autoclose": false,
   "autocomplete": true,
   "bibliofile": "biblio.bib",
   "cite_by": "apalike",
   "current_citInitial": 1,
   "eqLabelWithNumbers": true,
   "eqNumInitial": 1,
   "hotkeys": {
    "equation": "Ctrl-E",
    "itemize": "Ctrl-I"
   },
   "labels_anchors": false,
   "latex_user_defs": false,
   "report_style_numbering": false,
   "user_envs_cfg": false
  },
  "toc": {
   "base_numbering": 1,
   "nav_menu": {},
   "number_sections": true,
   "sideBar": true,
   "skip_h1_title": false,
   "title_cell": "Table of Contents",
   "title_sidebar": "Contents",
   "toc_cell": false,
   "toc_position": {},
   "toc_section_display": true,
   "toc_window_display": false
  }
 },
 "nbformat": 4,
 "nbformat_minor": 4
}
